{
 "cells": [
  {
   "cell_type": "code",
   "execution_count": 17,
   "id": "93d0813d",
   "metadata": {},
   "outputs": [
    {
     "name": "stdout",
     "output_type": "stream",
     "text": [
      "-------------------------------------------------------------\n",
      "Welcome to the EVERYTHNG STORE IN ITI:\n",
      "To go in the Owner's menu, Press 1\n",
      "To go in the Customer menu, Press 2\n",
      "To Exit the Store, Press 9\n",
      "enter your option9\n",
      "-------------------------------------------------------------\n",
      "The total recipt for the customer is 0\n"
     ]
    }
   ],
   "source": [
    " # The calculator
"print(\"welcome to the ITIan Calculator\")\n",
"print(\"The Calculator has 2 modes\")\n",
"while check != 9:\n",
"   print(\"Press 1 for Scientific and 2 for Programming\")\n",
"    check= int(input(\"For starters which mode would you like to use : \"))\n",
"    \n",
"    #inputing the numbers\n",
"    
"    Num_1= int(input(\"Type in Both numbers starting with the first number\"))  \n",
"    Num_2= int(input(\"Type in the value of the second number\"))\n",
"    \n",
"    if check == 1:           #Scientific mode\n",
"        print(\"You have selected the Scientific \")\n",
"        check = input(\"type in the operation that you wish to do (+,*,-,!,/) \")\n",
"        if check == '+':\n",
"            Result = Num_1+Num_2\n",
"        if check == '-':\n",
"            Result = Num_1-Num_2\n",
"        if check == '*':\n",
"            Result = Num_1*Num_2\n",
"        if check == '/':\n",
"            Result = Num_1/Num_2\n",
"        if check == '!':\n",
"            Result = Num_1+Num_2\n",
"    elif check ==2:          #programming mode\n",
"        \n",
"#scientific\n",
"#programming\n",
   ]
  },
  {
   "cell_type": "code",
   "execution_count": null,
   "id": "37f5bc0e",
   "metadata": {},
   "outputs": [],
   "source": [
    "#THE CALCULATOR"
   ]
  }
 ],
 "metadata": {
  "kernelspec": {
   "display_name": "Python 3 (ipykernel)",
   "language": "python",
   "name": "python3"
  },
  "language_info": {
   "codemirror_mode": {
    "name": "ipython",
    "version": 3
   },
   "file_extension": ".py",
   "mimetype": "text/x-python",
   "name": "python",
   "nbconvert_exporter": "python",
   "pygments_lexer": "ipython3",
   "version": "3.10.8"
  }
 },
 "nbformat": 4,
 "nbformat_minor": 5
}
