{
 "cells": [
  {
   "cell_type": "code",
   "execution_count": 17,
   "id": "93d0813d",
   "metadata": {},
   "outputs": [
    {
     "name": "stdout",
     "output_type": "stream",
     "text": [
      "-------------------------------------------------------------\n",
      "Welcome to the EVERYTHNG STORE IN ITI:\n",
      "To go in the Owner's menu, Press 1\n",
      "To go in the Customer menu, Press 2\n",
      "To Exit the Store, Press 9\n",
      "enter your option9\n",
      "-------------------------------------------------------------\n",
      "The total recipt for the customer is 0\n"
     ]
    }
   ],
   "source": [
    # The calculator
print("welcome to the ITIan Calculator")
print("The Calculator has 2 modes")
while check != 9:
    print("Press 1 for Scientific and 2 for Programming")
    check= int(input("For starters which mode would you like to use : "))
    
    #inputing the numbers
    
    Num_1= int(input("Type in Both numbers starting with the first number"))  
    Num_2= int(input("Type in the value of the second number"))
    
    if check == 1:           #Scientific mode
        print("You have selected the Scientific ")
        check = input("type in the operation that you wish to do (+,*,-,!,/) ")
        if check == '+':
            Result = Num_1+Num_2
        if check == '-':
            Result = Num_1-Num_2
        if check == '*':
            Result = Num_1*Num_2
        if check == '/':
            Result = Num_1/Num_2
        if check == '!':
            Result = Num_1+Num_2
    elif check ==2:          #programming mode
        
#scientific
#programming
   ]
  },
  {
   "cell_type": "code",
   "execution_count": null,
   "id": "37f5bc0e",
   "metadata": {},
   "outputs": [],
   "source": [
    "#THE CALCULATOR"
   ]
  }
 ],
 "metadata": {
  "kernelspec": {
   "display_name": "Python 3 (ipykernel)",
   "language": "python",
   "name": "python3"
  },
  "language_info": {
   "codemirror_mode": {
    "name": "ipython",
    "version": 3
   },
   "file_extension": ".py",
   "mimetype": "text/x-python",
   "name": "python",
   "nbconvert_exporter": "python",
   "pygments_lexer": "ipython3",
   "version": "3.10.8"
  }
 },
 "nbformat": 4,
 "nbformat_minor": 5
}
