{
 "cells": [
  {
   "cell_type": "code",
   "execution_count": 40,
   "id": "93d0813d",
   "metadata": {},
   "outputs": [
    {
     "name": "stdout",
     "output_type": "stream",
     "text": [
      "Enter an a number that indicates how big the arrow is Number   5\n",
      "    *    \n",
      "   ***   \n",
      "  *****  \n",
      " ******* \n",
      "*********\n",
      "    *    \n",
      "    *    \n",
      "    *    \n",
      "    *    \n",
      "**********\n",
      " ********\n",
      "  ****** \n",
      "   ****  \n",
      "    **   \n",
      "    *    \n",
      "   ***   \n",
      "  *****  \n",
      " ******* \n",
      "*********\n",
      "    *    \n",
      "    *    \n",
      "    *    \n",
      "    *    \n",
      "**********\n",
      " ********\n",
      "  ****** \n",
      "   ****  \n",
      "    **   \n",
      "    *    \n",
      "   ***   \n",
      "  *****  \n",
      " ******* \n",
      "*********\n",
      "    *    \n",
      "    *    \n",
      "    *    \n",
      "    *    \n",
      "**********\n",
      " ********\n",
      "  ****** \n",
      "   ****  \n",
      "    **   \n",
      "    *    \n",
      "   ***   \n",
      "  *****  \n",
      " ******* \n",
      "*********\n",
      "    *    \n",
      "    *    \n",
      "    *    \n",
      "    *    \n",
      "**********\n",
      " ********\n",
      "  ****** \n",
      "   ****  \n",
      "    **   \n",
      "    *    \n",
      "   ***   \n",
      "  *****  \n",
      " ******* \n",
      "*********\n",
      "    *    \n",
      "    *    \n"
     ]
    },
    {
     "ename": "KeyboardInterrupt",
     "evalue": "",
     "output_type": "error",
     "traceback": [
      "\u001b[1;31m---------------------------------------------------------------------------\u001b[0m",
      "\u001b[1;31mKeyboardInterrupt\u001b[0m                         Traceback (most recent call last)",
      "Cell \u001b[1;32mIn [40], line 17\u001b[0m\n\u001b[0;32m     15\u001b[0m \u001b[38;5;28;01mfor\u001b[39;00m n \u001b[38;5;129;01min\u001b[39;00m \u001b[38;5;28mrange\u001b[39m(\u001b[38;5;241m1\u001b[39m,lines,\u001b[38;5;241m2\u001b[39m):\n\u001b[0;32m     16\u001b[0m         \u001b[38;5;28mprint\u001b[39m((\u001b[38;5;124m'\u001b[39m\u001b[38;5;124m*\u001b[39m\u001b[38;5;124m'\u001b[39m)\u001b[38;5;241m.\u001b[39mcenter(lines\u001b[38;5;241m*\u001b[39m\u001b[38;5;241m2\u001b[39m\u001b[38;5;241m-\u001b[39m\u001b[38;5;241m1\u001b[39m))\n\u001b[1;32m---> 17\u001b[0m \u001b[43msleep\u001b[49m\u001b[43m(\u001b[49m\u001b[38;5;241;43m5\u001b[39;49m\u001b[43m)\u001b[49m\n\u001b[0;32m     18\u001b[0m os\u001b[38;5;241m.\u001b[39msystem(\u001b[38;5;124m'\u001b[39m\u001b[38;5;124mcls\u001b[39m\u001b[38;5;124m'\u001b[39m)\n\u001b[0;32m     20\u001b[0m \u001b[38;5;28;01mfor\u001b[39;00m n \u001b[38;5;129;01min\u001b[39;00m \u001b[38;5;28mrange\u001b[39m(\u001b[38;5;241m1\u001b[39m,lines,\u001b[38;5;241m2\u001b[39m):\n",
      "\u001b[1;31mKeyboardInterrupt\u001b[0m: "
     ]
    }
   ],
   "source": [
    "import os\n",
    "from time import sleep\n",
    "\n",
    "def cls():\n",
    "    os.system('cls' if os.name=='nt' else 'clear')\n",
    "    \n",
    "    \n",
    "lines=int(input(\"Enter an a number that indicates how big the arrow is Number   \"))\n",
    "#The Rotating Arrow\n",
    "while (1):\n",
    "    \n",
    "    #North\n",
    "    for n in range(1,lines*2,2):          \n",
    "            print(('*'*n).center(lines*2-1))\n",
    "    for n in range(1,lines,2):\n",
    "            print(('*').center(lines*2-1))\n",
    "    sleep(5)\n",
    "    os.system('cls')\n",
    "    \n",
    "    for n in range(1,lines,2):\n",
    "            print(('*').center(lines*2-1))\n",
    "    for n in range(lines*2,1,-2):          \n",
    "            print(('*'*n).center(lines*2-1))\n",
    "    sleep(5)\n",
    "\n",
    "'''\n",
    "    i=1\n",
    "    for n in range(1,lines*4,1):\n",
    "        if(n<=lines/2) :  \n",
    "            print(\"*\"*n)\n",
    "        elif(n>lines/2):\n",
    "            print(\"*\"*n-i)\n",
    "            i+=1\n",
    "'''\n",
    "\n"
   ]
  },
  {
   "cell_type": "code",
   "execution_count": 44,
   "id": "37f5bc0e",
   "metadata": {},
   "outputs": [
    {
     "name": "stdout",
     "output_type": "stream",
     "text": [
      "5 No i think its working 0b101 i think its working pretty well (Heart symbol) 0x5\n"
     ]
    }
   ],
   "source": [
    "#THE CALCULATOR\n",
    "num_1=5\n",
    "\n",
    "print(str(num_1)+\" No i think its working \"+str(bin(num_1)) +\" i think its working pretty well (Heart symbol) \"+ str(hex(num_1)))"
   ]
  },
  {
   "cell_type": "code",
   "execution_count": null,
   "id": "3062f9ee",
   "metadata": {},
   "outputs": [],
   "source": []
  }
 ],
 "metadata": {
  "kernelspec": {
   "display_name": "Python 3 (ipykernel)",
   "language": "python",
   "name": "python3"
  },
  "language_info": {
   "codemirror_mode": {
    "name": "ipython",
    "version": 3
   },
   "file_extension": ".py",
   "mimetype": "text/x-python",
   "name": "python",
   "nbconvert_exporter": "python",
   "pygments_lexer": "ipython3",
   "version": "3.10.8"
  },
  "vscode": {
   "interpreter": {
    "hash": "75161d6aa37c3d9a6dcf929b73cdd98ee2543d9ebcb41b036bf1035c28d39549"
   }
  }
 },
 "nbformat": 4,
 "nbformat_minor": 5
}
