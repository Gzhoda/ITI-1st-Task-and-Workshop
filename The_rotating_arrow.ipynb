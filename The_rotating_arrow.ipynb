{
 "cells": [
  {
   "cell_type": "code",
   "execution_count": 17,
   "id": "93d0813d",
   "metadata": {},
   "outputs": [
    {
     "name": "stdout",
     "output_type": "stream",
     "text": [
      "-------------------------------------------------------------\n",
      "Welcome to the EVERYTHNG STORE IN ITI:\n",
      "To go in the Owner's menu, Press 1\n",
      "To go in the Customer menu, Press 2\n",
      "To Exit the Store, Press 9\n",
      "enter your option9\n",
      "-------------------------------------------------------------\n",
      "The total recipt for the customer is 0\n"
     ]
    }
   ],
   "source": [
    "menu = {'Apples': [30,90], 'Cherry': [40,100], 'Banana': [20,85]}\n",
    "\n",
    " \n",
    "# the EVERYTHING STORE \n",
    "\n",
    "\n",
    "\n",
    "\n",
    "Total_cost=0\n",
    "check='0'\n",
    "passW=\"Hello_Owner\"\n",
    "print(\"-------------------------------------------------------------\")\n",
    "print(\"Welcome to the EVERYTHNG STORE IN ITI:\")\n",
    "while (check != '9'):\n",
    "    print(\"To go in the Owner's menu, Press 1\")\n",
    "    print(\"To go in the Customer menu, Press 2\")\n",
    "    print(\"To Exit the Store, Press 9\")\n",
    "    check = input(\"enter your option\")\n",
    "    print(\"-------------------------------------------------------------\")\n",
    "    if check == '1':                        #owner's menu\n",
    "        pas=input(\"enter the password - didnt think you can choose that without a password did you?\")\n",
    "        if passW == pas:\n",
    "            print(\"To Check current Stock, Press 1\")\n",
    "            print(\"To add a new stock to a current product press 2\")\n",
    "            print(\"To add a new product press 3\")\n",
    "            print(\"To change the cost on a current product press 4\")\n",
    "            print(\"To Exit the menu press 9\")\n",
    "            print(\"-------------------------------------------------------------\")\n",
    "            check = input(\"enter your option\")\n",
    "            if check =='1':           #check current stock\n",
    "                print(\"You chose to check the stock\")\n",
    "                print(menu)\n",
    "            elif check=='2':\n",
    "                product = input(\"enter the product that you wish to add stock to \")\n",
    "                for x in menu:\n",
    "                    if x == product:\n",
    "                        Product_num= int(input(\"enter the number of product available \"))\n",
    "                        menu[x][0]=Product_num\n",
    "            elif check=='3':\n",
    "                product = input(\"enter the product that you wish to add to the store \")\n",
    "                Product_num= int(input(\"enter the number of product available \"))\n",
    "                Product_Price= int(input(\"enter the price of product available \"))\n",
    "                menu[product] = [Product_num, Product_Price]\n",
    "            elif check=='4':\n",
    "                product = input(\"enter the product that you wish to change the cost of \")\n",
    "                for x in menu:\n",
    "                    if x == product:\n",
    "                        Product_num= int(input(\"enter the price of product available \"))\n",
    "                        menu[x][1]=Product_num\n",
    "            \n",
    "        else:\n",
    "            print(\"Wrong Password maybe you are a customer not the owner\")\n",
    "    elif check == '2':                  #customer menu\n",
    "        print(\"To Check current Stock, Press 1\")\n",
    "        print(\"To buy products press 2\")\n",
    "        print(\"To Exit the menu press 9\")\n",
    "        check = input(\"enter your option\")\n",
    "        if check == '1':\n",
    "            print(\"You chose to check the stock\")\n",
    "            print(menu)\n",
    "        if check == '2':\n",
    "            product = input(\"enter the product you wish to buy from \")\n",
    "            amount = input(\"enter the amount of product you wish to buy \")\n",
    "            for x in menu:\n",
    "                if x == product:\n",
    "                    menu[x][0] -= amount\n",
    "                    Total_cost= menu[x][1] * amount\n",
    "print(\"The total recipt for the customer is \"+ str(Total_cost))"
   ]
  },
  {
   "cell_type": "code",
   "execution_count": null,
   "id": "37f5bc0e",
   "metadata": {},
   "outputs": [],
   "source": [
    "#THE CALCULATOR"
   ]
  }
 ],
 "metadata": {
  "kernelspec": {
   "display_name": "Python 3 (ipykernel)",
   "language": "python",
   "name": "python3"
  },
  "language_info": {
   "codemirror_mode": {
    "name": "ipython",
    "version": 3
   },
   "file_extension": ".py",
   "mimetype": "text/x-python",
   "name": "python",
   "nbconvert_exporter": "python",
   "pygments_lexer": "ipython3",
   "version": "3.10.8"
  }
 },
 "nbformat": 4,
 "nbformat_minor": 5
}
